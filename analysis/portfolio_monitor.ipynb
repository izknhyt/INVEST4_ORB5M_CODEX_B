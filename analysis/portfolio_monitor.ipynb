{
 "cells": [
  {
   "cell_type": "markdown",
   "metadata": {},
   "source": [
    "# Portfolio Observability Dashboard\n",
    "\n",
    "This notebook assembles EV history, slippage estimates, win-rate lower bounds, and turnover metrics by leveraging the reusable loaders under `analysis.dashboard`. Run the data refresh cell to update the structures that feed the dashboard visualisations."
   ]
  },
  {
   "cell_type": "code",
   "execution_count": null,
   "metadata": {},
   "outputs": [],
   "source": [
    "from pathlib import Path\n",
    "\n",
    "from analysis.dashboard import (\n",
    "    load_ev_history,\n",
    "    load_state_slippage,\n",
    "    load_execution_slippage,\n",
    "    load_turnover_metrics,\n",
    ")\n",
    "\n",
    "ARCHIVE_DIR = Path(\"ops/state_archive/day_orb_5m.DayORB5m/USDJPY/conservative\")\n",
    "TELEMETRY_PATH = Path(\"reports/portfolio_samples/router_demo/telemetry.json\")\n",
    "RUNS_ROOT = Path(\"runs\")\n",
    "\n",
    "EV_HISTORY = load_ev_history(ARCHIVE_DIR, limit=120)\n",
    "STATE_SLIPPAGE = load_state_slippage(ARCHIVE_DIR, limit=60)\n",
    "EXECUTION_SLIPPAGE = load_execution_slippage(TELEMETRY_PATH) if TELEMETRY_PATH.exists() else []\n",
    "TURNOVER = load_turnover_metrics(RUNS_ROOT, limit=50)\n"
   ]
  },
  {
   "cell_type": "code",
   "execution_count": null,
   "metadata": {},
   "outputs": [],
   "source": [
    "try:\n",
    "    import pandas as pd  # type: ignore\n",
    "except ModuleNotFoundError:  # pragma: no cover - optional dependency\n",
    "    pd = None\n",
    "\n",
    "if pd is not None:\n",
    "    ev_df = pd.DataFrame([item.to_dict() for item in EV_HISTORY])\n",
    "    slip_state_df = pd.DataFrame([item.to_dict() for item in STATE_SLIPPAGE])\n",
    "    slip_exec_df = pd.DataFrame([item.to_dict() for item in EXECUTION_SLIPPAGE])\n",
    "    turnover_df = pd.DataFrame([item.to_dict() for item in TURNOVER])\n",
    "else:\n",
    "    ev_df = [item.to_dict() for item in EV_HISTORY]\n",
    "    slip_state_df = [item.to_dict() for item in STATE_SLIPPAGE]\n",
    "    slip_exec_df = [item.to_dict() for item in EXECUTION_SLIPPAGE]\n",
    "    turnover_df = [item.to_dict() for item in TURNOVER]\n",
    "\n",
    "print(\"Latest win-rate LCB:\", EV_HISTORY[-1].win_rate_lcb if EV_HISTORY else None)\n",
    "ev_df\n"
   ]
  },
  {
   "cell_type": "code",
   "execution_count": null,
   "metadata": {},
   "outputs": [],
   "source": [
    "slip_state_df\n"
   ]
  },
  {
   "cell_type": "code",
   "execution_count": null,
   "metadata": {},
   "outputs": [],
   "source": [
    "slip_exec_df\n"
   ]
  },
  {
   "cell_type": "code",
   "execution_count": null,
   "metadata": {},
   "outputs": [],
   "source": [
    "turnover_df\n"
   ]
  }
 ],
 "metadata": {
  "kernelspec": {
   "display_name": "Python 3",
   "language": "python",
   "name": "python3"
  },
  "language_info": {
   "name": "python",
   "version": "3.10"
  }
 },
 "nbformat": 4,
 "nbformat_minor": 5
}
