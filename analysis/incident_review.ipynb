{
 "cells": [
  {
   "cell_type": "markdown",
   "id": "fc3cba90",
   "metadata": {},
   "source": [
    "# Incident Replay Notebook\n",
    "\n",
    "1. `ops/incidents/<incident_id>/incident.json` を選択\n",
    "2. 対象期間の CSV を抽出して `scripts/run_sim.py` で再実行\n",
    "3. 結果や考察を `replay_notes.md` に反映\n"
   ]
  },
  {
   "cell_type": "code",
   "execution_count": 1,
   "id": "a222f524",
   "metadata": {
    "execution": {
     "iopub.execute_input": "2025-10-02T23:19:52.958309Z",
     "iopub.status.busy": "2025-10-02T23:19:52.958116Z",
     "iopub.status.idle": "2025-10-02T23:19:52.967468Z",
     "shell.execute_reply": "2025-10-02T23:19:52.966844Z"
    }
   },
   "outputs": [
    {
     "data": {
      "text/plain": [
       "{'incident_id': '20250101-0900_USDJPY_drawdown',\n",
       " 'symbol': 'USDJPY',\n",
       " 'mode': 'conservative',\n",
       " 'start_ts': '2025-10-02T15:35:00Z',\n",
       " 'end_ts': '2025-10-02T19:20:00Z',\n",
       " 'trigger': 'max_drawdown',\n",
       " 'severity': 'high',\n",
       " 'loss_pips': -37.9,\n",
       " 'snapshot_state': 'ops/state_archive/day_orb_5m/USDJPY/conservative/20250924_121238_state.json',\n",
       " 'notes': 'USDJPY sold off from the post-London high into the US afternoon, breaking the 147.30 support pocket and triggering the internal max drawdown alert after a 37.9 pip slide.',\n",
       " 'tags': ['tokyo', 'drawdown', 'liquidity']}"
      ]
     },
     "execution_count": 1,
     "metadata": {},
     "output_type": "execute_result"
    }
   ],
   "source": [
    "from pathlib import Path\n",
    "import json\n",
    "\n",
    "# === 設定を更新してください ===\n",
    "INCIDENT_ID = \"20250101-0900_USDJPY_drawdown\"  # incident.json を置いたディレクトリ名\n",
    "PROJECT_ROOT = Path.cwd().resolve()\n",
    "if not (PROJECT_ROOT / \"scripts\").exists():\n",
    "    PROJECT_ROOT = PROJECT_ROOT.parent\n",
    "INCIDENT_DIR = PROJECT_ROOT / \"ops\" / \"incidents\" / INCIDENT_ID\n",
    "INCIDENT_PATH = INCIDENT_DIR / \"incident.json\"\n",
    "assert INCIDENT_PATH.exists(), f\"incident not found: {INCIDENT_PATH}\"\n",
    "incident = json.loads(INCIDENT_PATH.read_text(encoding=\"utf-8\"))\n",
    "incident\n"
   ]
  },
  {
   "cell_type": "code",
   "execution_count": 2,
   "id": "4b39c230",
   "metadata": {
    "execution": {
     "iopub.execute_input": "2025-10-02T23:19:52.969700Z",
     "iopub.status.busy": "2025-10-02T23:19:52.969498Z",
     "iopub.status.idle": "2025-10-02T23:19:53.243657Z",
     "shell.execute_reply": "2025-10-02T23:19:53.242941Z"
    }
   },
   "outputs": [
    {
     "name": "stdout",
     "output_type": "stream",
     "text": [
      "Running: /root/.pyenv/versions/3.12.10/bin/python /workspace/INVEST4_ORB5M_CODEX_B/scripts/run_sim.py --csv /workspace/INVEST4_ORB5M_CODEX_B/runs/incident_20250101-0900_USDJPY_drawdown/source_with_header.csv --symbol USDJPY --mode conservative --start-ts 2025-10-02T15:35:00Z --end-ts 2025-10-02T19:20:00Z --equity 100000 --json-out /workspace/INVEST4_ORB5M_CODEX_B/runs/incident_20250101-0900_USDJPY_drawdown/metrics.json --dump-daily /workspace/INVEST4_ORB5M_CODEX_B/runs/incident_20250101-0900_USDJPY_drawdown/daily.csv --out-dir /workspace/INVEST4_ORB5M_CODEX_B/runs/incident_20250101-0900_USDJPY_drawdown\n"
     ]
    },
    {
     "name": "stdout",
     "output_type": "stream",
     "text": [
      "returncode= 0\n",
      "{'aggregate_ev': {'command': ['/root/.pyenv/versions/3.12.10/bin/python',\n",
      "                              '/workspace/INVEST4_ORB5M_CODEX_B/scripts/aggregate_ev.py',\n",
      "                              '--strategy',\n",
      "                              'day_orb_5m.DayORB5m',\n",
      "                              '--symbol',\n",
      "                              'USDJPY',\n",
      "                              '--mode',\n",
      "                              'conservative',\n",
      "                              '--archive',\n",
      "                              'ops/state_archive',\n",
      "                              '--recent',\n",
      "                              '5',\n",
      "                              '--out-csv',\n",
      "                              'analysis/ev_profile_summary.csv'],\n",
      "                  'returncode': 0,\n",
      "                  'stderr': '/workspace/INVEST4_ORB5M_CODEX_B/scripts/aggregate_ev.py:156: '\n",
      "                            'DeprecationWarning: datetime.datetime.utcnow() is '\n",
      "                            'deprecated and scheduled for removal in a future '\n",
      "                            'version. Use timezone-aware objects to represent '\n",
      "                            'datetimes in UTC: '\n",
      "                            'datetime.datetime.now(datetime.UTC).\\n'\n",
      "                            '  \"generated_at\": '\n",
      "                            'datetime.utcnow().strftime(\"%Y-%m-%dT%H:%M:%SZ\"),',\n",
      "                  'stdout': 'Wrote YAML profile -> '\n",
      "                            '/workspace/INVEST4_ORB5M_CODEX_B/configs/ev_profiles/day_orb_5m.yaml'},\n",
      " 'debug': {'ev_bypass': 21,\n",
      "           'ev_reject': 0,\n",
      "           'ev_threshold_error': 0,\n",
      "           'gate_block': 9,\n",
      "           'no_breakout': 5,\n",
      "           'strategy_gate_error': 0,\n",
      "           'zero_qty': 0},\n",
      " 'decay': 0.02,\n",
      " 'dump_daily': '/workspace/INVEST4_ORB5M_CODEX_B/runs/incident_20250101-0900_USDJPY_drawdown/daily.csv',\n",
      " 'ev_profile_path': 'configs/ev_profiles/day_orb_5m.yaml',\n",
      " 'index_csv': '/workspace/INVEST4_ORB5M_CODEX_B/runs/incident_20250101-0900_USDJPY_drawdown/index.csv',\n",
      " 'max_drawdown': 0.0,\n",
      " 'run_dir': '/workspace/INVEST4_ORB5M_CODEX_B/runs/incident_20250101-0900_USDJPY_drawdown/USDJPY_conservative_20251002_231953',\n",
      " 'sharpe': 17.700612930128813,\n",
      " 'state_archive_path': 'ops/state_archive/day_orb_5m.DayORB5m/USDJPY/conservative/20251002_231953_USDJPY_conservative_20251002_231953.json',\n",
      " 'state_loaded': 'ops/state_archive/day_orb_5m.DayORB5m/USDJPY/conservative/20251002_214016.json',\n",
      " 'state_path': '/workspace/INVEST4_ORB5M_CODEX_B/runs/incident_20250101-0900_USDJPY_drawdown/USDJPY_conservative_20251002_231953/state.json',\n",
      " 'total_pips': 78.22778756282389,\n",
      " 'trades': 32,\n",
      " 'win_rate': 1.0,\n",
      " 'wins': 32}\n",
      "daily.csv preview (first 5 lines):\n",
      "date,breakouts,gate_pass,gate_block,ev_pass,ev_reject,fills,wins,pnl_pips\n",
      "2025-10-02,41,32,9,11,0,32,32,78.22778756282389\n"
     ]
    },
    {
     "name": "stderr",
     "output_type": "stream",
     "text": [
      "/workspace/INVEST4_ORB5M_CODEX_B/scripts/run_sim.py:466: DeprecationWarning: datetime.datetime.utcnow() is deprecated and scheduled for removal in a future version. Use timezone-aware objects to represent datetimes in UTC: datetime.datetime.now(datetime.UTC).\n",
      "  stamp = datetime.utcnow().strftime(\"%Y%m%d_%H%M%S\")\n"
     ]
    }
   ],
   "source": [
    "import shutil\n",
    "import subprocess\n",
    "import sys\n",
    "from pathlib import Path\n",
    "from pprint import pprint\n",
    "\n",
    "# === run_sim.py を --start-ts / --end-ts 付きで直接実行 ===\n",
    "symbol = incident[\"symbol\"]\n",
    "mode = incident.get(\"mode\", \"conservative\")\n",
    "start_ts = incident[\"start_ts\"]\n",
    "end_ts = incident[\"end_ts\"]\n",
    "\n",
    "csv_path = PROJECT_ROOT / \"validated\" / symbol / \"5m.csv\"\n",
    "assert csv_path.exists(), f\"missing bars CSV: {csv_path}\"\n",
    "\n",
    "out_dir = PROJECT_ROOT / \"runs\" / f\"incident_{INCIDENT_ID}\"\n",
    "out_dir.mkdir(parents=True, exist_ok=True)\n",
    "json_out = out_dir / \"metrics.json\"\n",
    "daily_out = out_dir / \"daily.csv\"\n",
    "\n",
    "prepared_csv = csv_path\n",
    "with csv_path.open(encoding=\"utf-8\") as src:\n",
    "    first_line = src.readline()\n",
    "    needs_header = \"timestamp\" not in first_line.lower()\n",
    "if needs_header:\n",
    "    prepared_csv = out_dir / \"source_with_header.csv\"\n",
    "    if not prepared_csv.exists():\n",
    "        with csv_path.open(encoding=\"utf-8\") as src, prepared_csv.open(\"w\", encoding=\"utf-8\", newline=\"\") as dst:\n",
    "            dst.write(\"timestamp,symbol,tf,o,h,l,c,v,spread\\n\")\n",
    "            shutil.copyfileobj(src, dst)\n",
    "\n",
    "cmd = [\n",
    "    sys.executable,\n",
    "    str(PROJECT_ROOT / \"scripts\" / \"run_sim.py\"),\n",
    "    \"--csv\", str(prepared_csv),\n",
    "    \"--symbol\", symbol,\n",
    "    \"--mode\", mode,\n",
    "    \"--start-ts\", start_ts,\n",
    "    \"--end-ts\", end_ts,\n",
    "    \"--equity\", str(incident.get(\"equity\", 100000)),\n",
    "    \"--json-out\", str(json_out),\n",
    "    \"--dump-daily\", str(daily_out),\n",
    "    \"--out-dir\", str(out_dir),\n",
    "]\n",
    "\n",
    "print(\"Running:\", \" \".join(cmd))\n",
    "run = subprocess.run(cmd, check=False)\n",
    "print(\"returncode=\", run.returncode)\n",
    "\n",
    "if json_out.exists():\n",
    "    metrics = json.loads(json_out.read_text(encoding=\"utf-8\"))\n",
    "    pprint(metrics)\n",
    "else:\n",
    "    print(\"metrics not generated\")\n",
    "\n",
    "if daily_out.exists():\n",
    "    preview_lines = daily_out.read_text(encoding=\"utf-8\").splitlines()[:5]\n",
    "    print(\"daily.csv preview (first 5 lines):\")\n",
    "    for line in preview_lines:\n",
    "        print(line)\n",
    "else:\n",
    "    print(\"daily.csv not generated\")\n"
   ]
  },
  {
   "cell_type": "markdown",
   "id": "d4aa04e8",
   "metadata": {},
   "source": [
    "### インシデントフォルダへの成果物同期手順\n",
    "- `runs/incident_{INCIDENT_ID}/metrics.json` を確認し、差分が固まったら `ops/incidents/{INCIDENT_ID}/replay_params.json` へコピーしてバージョン管理する。\n",
    "- `runs/incident_{INCIDENT_ID}/daily.csv` や追加のダンプを見直し、必要に応じてインシデントディレクトリへ持ち帰る。\n",
    "- この Notebook の考察メモは `ops/incidents/{INCIDENT_ID}/replay_notes.md` に整理し、次回レビュー時に参照できるよう同期する。\n",
    "- 同期後は `git status` で変更を確認し、関連ファイルをコミットしてインシデント対応ログを最新化する。\n"
   ]
  }
 ],
 "metadata": {
  "kernelspec": {
   "display_name": "Python 3",
   "language": "python",
   "name": "python3"
  },
  "language_info": {
   "codemirror_mode": {
    "name": "ipython",
    "version": 3
   },
   "file_extension": ".py",
   "mimetype": "text/x-python",
   "name": "python",
   "nbconvert_exporter": "python",
   "pygments_lexer": "ipython3",
   "version": "3.12.10"
  }
 },
 "nbformat": 4,
 "nbformat_minor": 5
}
