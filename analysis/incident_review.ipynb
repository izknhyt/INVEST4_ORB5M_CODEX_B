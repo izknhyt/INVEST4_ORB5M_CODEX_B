{
 "cells": [
  {
   "cell_type": "markdown",
   "id": "fc3cba90",
   "metadata": {},
   "source": [
    "# Incident Replay Notebook\n",
    "\n",
    "1. `ops/incidents/<incident_id>/incident.json` を選択\n",
    "2. 対象期間の CSV を整え、manifest 指定で `scripts/run_sim.py --manifest ...` を再実行\n",
    "3. 結果や考察を `replay_notes.md` に反映\n"
   ]
  },
  {
   "cell_type": "code",
   "execution_count": 1,
   "id": "a222f524",
   "metadata": {
    "execution": {
     "iopub.execute_input": "2025-10-02T23:19:52.958309Z",
     "iopub.status.busy": "2025-10-02T23:19:52.958116Z",
     "iopub.status.idle": "2025-10-02T23:19:52.967468Z",
     "shell.execute_reply": "2025-10-02T23:19:52.966844Z"
    }
   },
   "outputs": [
    {
     "data": {
      "text/plain": [
       "{'incident_id': '20250101-0900_USDJPY_drawdown',\n",
       " 'symbol': 'USDJPY',\n",
       " 'mode': 'conservative',\n",
       " 'start_ts': '2025-10-02T15:35:00Z',\n",
       " 'end_ts': '2025-10-02T19:20:00Z',\n",
       " 'trigger': 'max_drawdown',\n",
       " 'severity': 'high',\n",
       " 'loss_pips': -37.9,\n",
       " 'snapshot_state': 'ops/state_archive/day_orb_5m/USDJPY/conservative/20250924_121238_state.json',\n",
       " 'notes': 'USDJPY sold off from the post-London high into the US afternoon, breaking the 147.30 support pocket and triggering the internal max drawdown alert after a 37.9 pip slide.',\n",
       " 'tags': ['tokyo', 'drawdown', 'liquidity']}"
      ]
     },
     "execution_count": 1,
     "metadata": {},
     "output_type": "execute_result"
    }
   ],
   "source": [
    "from pathlib import Path\n",
    "import json\n",
    "\n",
    "# === 設定を更新してください ===\n",
    "INCIDENT_ID = \"20250101-0900_USDJPY_drawdown\"  # incident.json を置いたディレクトリ名\n",
    "PROJECT_ROOT = Path.cwd().resolve()\n",
    "if not (PROJECT_ROOT / \"scripts\").exists():\n",
    "    PROJECT_ROOT = PROJECT_ROOT.parent\n",
    "INCIDENT_DIR = PROJECT_ROOT / \"ops\" / \"incidents\" / INCIDENT_ID\n",
    "INCIDENT_PATH = INCIDENT_DIR / \"incident.json\"\n",
    "assert INCIDENT_PATH.exists(), f\"incident not found: {INCIDENT_PATH}\"\n",
    "incident = json.loads(INCIDENT_PATH.read_text(encoding=\"utf-8\"))\n",
    "incident\n"
   ]
  },
  {
   "cell_type": "code",
   "execution_count": null,
   "id": "4b39c230",
   "metadata": {
    "execution": {
     "iopub.execute_input": "2025-10-02T23:19:52.969700Z",
     "iopub.status.busy": "2025-10-02T23:19:52.969498Z",
     "iopub.status.idle": "2025-10-02T23:19:53.243657Z",
     "shell.execute_reply": "2025-10-02T23:19:53.242941Z"
    }
   },
   "outputs": [],
   "source": [
    "import shutil\n",
    "import subprocess\n",
    "import sys\n",
    "import json\n",
    "from pathlib import Path\n",
    "from pprint import pprint\n",
    "\n",
    "# === run_sim.py を manifest ベースで再実行 ===\n",
    "symbol = incident[\"symbol\"]\n",
    "mode = incident.get(\"mode\", \"conservative\")\n",
    "start_ts = incident[\"start_ts\"]\n",
    "end_ts = incident[\"end_ts\"]\n",
    "\n",
    "csv_path = PROJECT_ROOT / \"validated\" / symbol / \"5m.csv\"\n",
    "assert csv_path.exists(), f\"missing bars CSV: {csv_path}\"\n",
    "\n",
    "out_dir = PROJECT_ROOT / \"runs\" / f\"incident_{INCIDENT_ID}\"\n",
    "out_dir.mkdir(parents=True, exist_ok=True)\n",
    "json_out = out_dir / \"metrics.json\"\n",
    "\n",
    "prepared_csv = csv_path\n",
    "with csv_path.open(encoding=\"utf-8\") as src:\n",
    "    first_line = src.readline()\n",
    "    needs_header = \"timestamp\" not in first_line.lower()\n",
    "if needs_header:\n",
    "    prepared_csv = out_dir / \"source_with_header.csv\"\n",
    "    if not prepared_csv.exists():\n",
    "        with csv_path.open(encoding=\"utf-8\") as src, prepared_csv.open(\"w\", encoding=\"utf-8\", newline=\"\") as dst:\n",
    "            dst.write(\"timestamp,symbol,tf,o,h,l,c,v,spread\n",
    "\")\n",
    "            shutil.copyfileobj(src, dst)\n",
    "\n",
    "manifest_value = incident.get(\"manifest\", \"configs/strategies/day_orb_5m.yaml\")\n",
    "manifest_path = Path(manifest_value)\n",
    "if not manifest_path.is_absolute():\n",
    "    manifest_path = PROJECT_ROOT / manifest_path\n",
    "assert manifest_path.exists(), f\"manifest not found: {manifest_path}\"\n",
    "\n",
    "cmd = [\n",
    "    sys.executable,\n",
    "    str(PROJECT_ROOT / \"scripts\" / \"run_sim.py\"),\n",
    "    \"--manifest\", str(manifest_path),\n",
    "    \"--csv\", str(prepared_csv),\n",
    "    \"--start-ts\", start_ts,\n",
    "    \"--end-ts\", end_ts,\n",
    "    \"--equity\", str(incident.get(\"equity\", 100000)),\n",
    "    \"--json-out\", str(json_out),\n",
    "    \"--out-dir\", str(out_dir),\n",
    "]\n",
    "\n",
    "print(\"Running:\", \" \".join(cmd))\n",
    "run = subprocess.run(cmd, check=False)\n",
    "print(\"returncode=\", run.returncode)\n",
    "\n",
    "metrics = None\n",
    "if json_out.exists():\n",
    "    metrics = json.loads(json_out.read_text(encoding=\"utf-8\"))\n",
    "    pprint(metrics)\n",
    "else:\n",
    "    print(\"metrics not generated\")\n",
    "\n",
    "run_dir_path = None\n",
    "if metrics and metrics.get(\"run_dir\"):\n",
    "    run_dir_path = Path(metrics[\"run_dir\"])\n",
    "    print(\"run_dir=\", run_dir_path)\n",
    "\n",
    "daily_path = None\n",
    "if run_dir_path:\n",
    "    daily_path = run_dir_path / \"daily.csv\"\n",
    "    if daily_path.exists():\n",
    "        preview_lines = daily_path.read_text(encoding=\"utf-8\").splitlines()[:5]\n",
    "        print(\"daily.csv preview (first 5 lines):\")\n",
    "        for line in preview_lines:\n",
    "            print(line)\n",
    "    else:\n",
    "        print(\"daily.csv not generated\")\n",
    "else:\n",
    "    print(\"run_dir not found in metrics\")\n"
   ]
  },
  {
   "cell_type": "markdown",
   "id": "d4aa04e8",
   "metadata": {},
   "source": [
    "### インシデントフォルダへの成果物同期手順\n",
    "- `runs/incident_{INCIDENT_ID}/metrics.json` を確認し、差分が固まったら `ops/incidents/{INCIDENT_ID}/replay_params.json` へコピーしてバージョン管理する。\n",
    "- `runs/incident_{INCIDENT_ID}/daily.csv` や追加のダンプを見直し、必要に応じてインシデントディレクトリへ持ち帰る。\n",
    "- この Notebook の考察メモは `ops/incidents/{INCIDENT_ID}/replay_notes.md` に整理し、次回レビュー時に参照できるよう同期する。\n",
    "- 同期後は `git status` で変更を確認し、関連ファイルをコミットしてインシデント対応ログを最新化する。\n"
   ]
  }
 ],
 "metadata": {
  "kernelspec": {
   "display_name": "Python 3",
   "language": "python",
   "name": "python3"
  },
  "language_info": {
   "codemirror_mode": {
    "name": "ipython",
    "version": 3
   },
   "file_extension": ".py",
   "mimetype": "text/x-python",
   "name": "python",
   "nbconvert_exporter": "python",
   "pygments_lexer": "ipython3",
   "version": "3.12.10"
  }
 },
 "nbformat": 4,
 "nbformat_minor": 5
}
