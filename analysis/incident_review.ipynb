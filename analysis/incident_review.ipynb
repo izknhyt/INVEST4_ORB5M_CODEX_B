{
 "cells": [
  {
   "cell_type": "markdown",
   "metadata": {},
   "source": [
    "# Incident Replay Notebook\n",
    "\n",
    "1. `ops/incidents/<incident_id>/incident.json` を選択\n",
    "2. 対象期間の CSV を抽出して `scripts/run_sim.py` で再実行\n",
    "3. 結果や考察を `replay_notes.md` に反映\n"
   ]
  },
  {
   "cell_type": "code",
   "execution_count": null,
   "metadata": {},
   "outputs": [],
   "source": [
    "from pathlib import Path\n",
    "import json\n",
    "\n",
    "# === 設定を更新してください ===\n",
    "INCIDENT_ID = \"20250101-0900_USDJPY_drawdown\"  # incident.json を置いたディレクトリ名\n",
    "PROJECT_ROOT = Path.cwd().resolve()\n",
    "if not (PROJECT_ROOT / \"scripts\").exists():\n",
    "    PROJECT_ROOT = PROJECT_ROOT.parent\n",
    "INCIDENT_DIR = PROJECT_ROOT / \"ops\" / \"incidents\" / INCIDENT_ID\n",
    "INCIDENT_PATH = INCIDENT_DIR / \"incident.json\"\n",
    "assert INCIDENT_PATH.exists(), f\"incident not found: {INCIDENT_PATH}\"\n",
    "incident = json.loads(INCIDENT_PATH.read_text(encoding=\"utf-8\"))\n",
    "incident\n"
   ]
  },
  {
   "cell_type": "code",
   "execution_count": null,
   "metadata": {},
   "outputs": [],
   "source": [
    "import csv\n",
    "import tempfile\n",
    "from datetime import datetime\n",
    "\n",
    "symbol = incident[\"symbol\"]\n",
    "mode = incident.get(\"mode\", \"conservative\")\n",
    "start_ts = datetime.fromisoformat(incident[\"start_ts\"].replace(\"Z\", \"+00:00\"))\n",
    "end_ts = datetime.fromisoformat(incident[\"end_ts\"].replace(\"Z\", \"+00:00\"))\n",
    "csv_path = PROJECT_ROOT / \"validated\" / symbol / \"5m.csv\"\n",
    "assert csv_path.exists(), f\"missing bars CSV: {csv_path}\"\n",
    "\n",
    "tmp_file = tempfile.NamedTemporaryFile(\n",
    "    prefix=f\"incident_{INCIDENT_ID}_\", suffix=\".csv\", delete=False, mode=\"w\", newline=\"\", encoding=\"utf-8\"\n",
    ")\n",
    "with csv_path.open(newline=\"\", encoding=\"utf-8\") as in_f, tmp_file as out_f:\n",
    "    reader = csv.DictReader(in_f)\n",
    "    fieldnames = reader.fieldnames or [\"timestamp\", \"symbol\", \"tf\", \"o\", \"h\", \"l\", \"c\", \"v\", \"spread\"]\n",
    "    writer = csv.DictWriter(out_f, fieldnames=fieldnames)\n",
    "    writer.writeheader()\n",
    "    for row in reader:\n",
    "        ts_raw = row.get(\"timestamp\")\n",
    "        if not ts_raw:\n",
    "            continue\n",
    "        ts = datetime.fromisoformat(ts_raw.replace(\"Z\", \"\")) if \"T\" in ts_raw else datetime.strptime(ts_raw, \"%Y-%m-%d %H:%M:%S\")\n",
    "        if start_ts <= ts <= end_ts:\n",
    "            writer.writerow(row)\n",
    "filtered_csv = Path(tmp_file.name)\n",
    "filtered_csv\n"
   ]
  },
  {
   "cell_type": "code",
   "execution_count": null,
   "metadata": {},
   "outputs": [],
   "source": [
    "import subprocess\n",
    "import sys\n",
    "\n",
    "out_dir = PROJECT_ROOT / \"runs\" / f\"incident_{INCIDENT_ID}\"\n",
    "out_dir.mkdir(parents=True, exist_ok=True)\n",
    "json_out = out_dir / \"metrics.json\"\n",
    "daily_out = out_dir / \"daily.csv\"\n",
    "cmd = [\n",
    "    sys.executable,\n",
    "    str(PROJECT_ROOT / \"scripts\" / \"run_sim.py\"),\n",
    "    \"--csv\", str(filtered_csv),\n",
    "    \"--symbol\", symbol,\n",
    "    \"--mode\", mode,\n",
    "    \"--equity\", str(incident.get(\"equity\", 100_000)),\n",
    "    \"--json-out\", str(json_out),\n",
    "    \"--dump-daily\", str(daily_out),\n",
    "    \"--out-dir\", str(out_dir),\n",
    "]\n",
    "print(\"Running:\", \" ".join(cmd))\n",
    "run = subprocess.run(cmd, check=False)\n",
    "print(\"returncode=\", run.returncode)\n",
    "json_out.read_text(encoding=\"utf-8\") if json_out.exists() else \"metrics not generated\"\n"
   ]
  }
 ],
 "metadata": {
  "kernelspec": {
   "display_name": "Python 3",
   "language": "python",
   "name": "python3"
  },
  "language_info": {
   "name": "python",
   "version": "3.10"
  }
 },
 "nbformat": 4,
 "nbformat_minor": 5
}
