{
 "cells": [
  {
   "cell_type": "markdown",
   "metadata": {},
   "source": [
    "# ブローカー別 Fill シナリオ検証ノート\n",
    "`analysis/broker_fills_cli.py` が定義する代表ケースを Notebook 上で確認し、\n",
    "Conservative/Bridge モデルと各ブローカー仕様の差分を即時にレビューできるようにする。"
   ]
  },
  {
   "cell_type": "markdown",
   "metadata": {},
   "source": [
    "## 使い方\n",
    "- CLI 版: `python3 analysis/broker_fills_cli.py --format markdown` を実行すると同じ比較表をターミナル出力で確認できる。\n",
    "- Notebook 版: 下記セルを実行すると Pandas DataFrame（pandas が未導入の場合は辞書リスト）で差分を可視化できる。"
   ]
  },
  {
   "cell_type": "code",
   "execution_count": null,
   "metadata": {
    "collapsed": false
   },
   "outputs": [],
   "source": [
    "from analysis.broker_fills_cli import comparison_dataframe, iter_comparison_rows\n",
    "\n",
    "df = comparison_dataframe()\n",
    "if df is not None:\n",
    "    display(df)\n",
    "else:\n",
    "    rows = list(iter_comparison_rows())\n",
    "    rows\n"
   ]
  },
  {
   "cell_type": "markdown",
   "metadata": {},
   "source": [
    "## メモ\n",
    "- `conservative(aligned)` / `bridge(aligned)` 列は `SameBarPolicy` をブローカー仕様に合わせた結果を示す。\n",
    "- 表の差分をもとに `core/fill_engine.py` の挙動や `SameBarPolicy` 設定を検証し、必要な場合は pytest ケースを追加する。"
   ]
  }
 ],
 "metadata": {
  "kernelspec": {
   "display_name": "Python 3",
   "language": "python",
   "name": "python3"
  },
  "language_info": {
   "name": "python",
   "version": "3.x"
  }
 },
 "nbformat": 4,
 "nbformat_minor": 5
}
