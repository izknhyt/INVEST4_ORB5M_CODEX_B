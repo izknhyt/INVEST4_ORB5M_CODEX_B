{
 "cells": [
  {
   "cell_type": "markdown",
   "metadata": {},
   "source": [
    "# EV Parameter Sweep Analysis\n",
    "\n",
    "This notebook visualises the aggregated output produced by `scripts/generate_ev_case_study.py`.\n",
    "\n",
    "## Usage\n",
    "1. Run the sweep script to produce `analysis/ev_param_sweep.json` and `analysis/ev_param_sweep.csv`.\n",
    "2. Update `JSON_PATH` / `CSV_PATH` below if you stored the results elsewhere.\n",
    "3. Execute the cells to inspect performance heatmaps and recommended parameter ranges.\n"
   ]
  },
  {
   "cell_type": "code",
   "execution_count": null,
   "metadata": {},
   "outputs": [],
   "source": [
    "from pathlib import Path\n",
    "import json\n",
    "\n",
    "import pandas as pd\n",
    "import seaborn as sns\n",
    "import matplotlib.pyplot as plt\n",
    "\n",
    "JSON_PATH = Path('analysis/ev_param_sweep.json')\n",
    "CSV_PATH = Path('analysis/ev_param_sweep.csv')\n",
    "\n",
    "results = json.loads(JSON_PATH.read_text())\n",
    "df = pd.read_csv(CSV_PATH)\n",
    "display(df.head())\n"
   ]
  },
  {
   "cell_type": "code",
   "execution_count": null,
   "metadata": {},
   "outputs": [],
   "source": [
    "# Example heatmap: win rate across threshold & decay\n",
    "if {'param.threshold_lcb', 'param.decay'}.issubset(df.columns):\n",
    "    pivot = df.pivot_table(index='param.threshold_lcb', columns='param.decay', values='derived.win_rate')\n",
    "    plt.figure(figsize=(8, 6))\n",
    "    sns.heatmap(pivot, annot=True, fmt='.2f', cmap='viridis')\n",
    "    plt.title('Win Rate heatmap')\n",
    "    plt.ylabel('threshold_lcb')\n",
    "    plt.xlabel('decay')\n",
    "else:\n",
    "    print('Add --threshold and --decay sweeps to enable this view.')\n"
   ]
  },
  {
   "cell_type": "code",
   "execution_count": null,
   "metadata": {},
   "outputs": [],
   "source": [
    "# Recommend parameter windows by filtering on win rate / pips per trade thresholds\n",
    "WIN_RATE_MIN = 0.52\n",
    "PIPS_PER_TRADE_MIN = 0.0\n",
    "\n",
    "filtered = df[(df['derived.win_rate'] >= WIN_RATE_MIN) & (df['derived.pips_per_trade'] >= PIPS_PER_TRADE_MIN)]\n",
    "if not filtered.empty:\n",
    "    display(filtered.sort_values('derived.win_rate', ascending=False))\n",
    "else:\n",
    "    print('No parameter combination passed the thresholds; adjust WIN_RATE_MIN / PIPS_PER_TRADE_MIN.')\n"
   ]
  }
 ],
 "metadata": {
  "kernelspec": {
   "display_name": "Python 3",
   "language": "python",
   "name": "python3"
  },
  "language_info": {
   "name": "python",
   "version": "3.x"
  }
 },
 "nbformat": 4,
 "nbformat_minor": 5
}
