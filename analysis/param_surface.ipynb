{
 "cells": [
  {
   "cell_type": "markdown",
   "metadata": {},
   "source": [
    "# パラメータヒートマップ分析\n",
    "`scripts/utils_runs.py` で `runs/index.csv` を読み込み、パラメータごとの総pipsをヒートマップで可視化するサンプル。"
   ]
  },
  {
   "cell_type": "code",
   "execution_count": null,
   "metadata": {},
   "outputs": [],
   "source": [
    "from pathlib import Path\n",
    "import pandas as pd\n",
    "import seaborn as sns\n",
    "import matplotlib.pyplot as plt\n",
    "from scripts.utils_runs import load_runs_index\n",
    "\n",
    "records = load_runs_index(Path('runs/index.csv'))\n",
    "data = pd.DataFrame([r.__dict__ for r in records])\n",
    "filtered = data[(data['mode']=='conservative') & (data['symbol']=='USDJPY')]\n",
    "pivot = filtered.pivot_table(index='k_tp', columns='k_sl', values='total_pips', aggfunc='mean')\n",
    "sns.heatmap(pivot, annot=True, fmt='.0f', cmap='RdBu_r')\n",
    "plt.title('Total Pips by k_tp/k_sl')\n",
    "plt.show()"
   ]
  }
 ],
 "metadata": {
  "kernelspec": {
   "display_name": "Python 3",
   "language": "python",
   "name": "python3"
  },
  "language_info": {
   "codemirror_mode": {
    "name": "ipython",
    "version": 3
   },
   "file_extension": ".py",
   "mimetype": "text/x-python",
   "name": "python",
   "nbconvert_exporter": "python",
   "pygments_lexer": "ipython3",
   "version": "3.10"
  }
 },
 "nbformat": 4,
 "nbformat_minor": 5
}
