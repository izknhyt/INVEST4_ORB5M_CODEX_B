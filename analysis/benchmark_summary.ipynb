{
 "cells": [
  {
   "cell_type": "markdown",
   "metadata": {},
   "source": [
    "# Benchmark Summary Dashboard\n",
    "\n",
    "`reports/benchmark_summary.json` を読み込み、ベースラインとローリング期間別のパフォーマンスを可視化します。\n",
    "実行前に `python3 scripts/run_daily_workflow.py --benchmarks --benchmark-summary` を回して最新データを生成してください。"
   ]
  },
  {
   "cell_type": "code",
   "execution_count": null,
   "metadata": {
    "collapsed": false
   },
   "outputs": [],
   "source": [
    "import json\n",
    "from pathlib import Path\n",
    "import pandas as pd\n",
    "import matplotlib.pyplot as plt\n",
    "\n",
    "summary_path = Path('..') / 'reports' / 'benchmark_summary.json'\n",
    "if not summary_path.exists():\n",
    "    raise FileNotFoundError(f'benchmark summary not found: {summary_path}')\n",
    "\n",
    "with summary_path.open() as f:\n",
    "    data = json.load(f)\n",
    "data"
   ]
  },
  {
   "cell_type": "markdown",
   "metadata": {},
   "source": [
    "## 勝率・総pips 推移"
   ]
  },
  {
   "cell_type": "code",
   "execution_count": null,
   "metadata": {
    "collapsed": false
   },
   "outputs": [],
   "source": [
    "baseline = data['baseline']\n",
    "rolling = pd.DataFrame(data['rolling']).sort_values('window')\n",
    "display(pd.DataFrame([baseline], index=['baseline']))\n",
    "display(rolling)\n",
    "\n",
    "fig, axes = plt.subplots(1, 2, figsize=(10, 4))\n",
    "axes[0].plot(rolling['window'], rolling['win_rate'] * 100, marker='o')\n",
    "axes[0].axhline(baseline['win_rate'] * 100, color='gray', linestyle='--', label='baseline')\n",
    "axes[0].set_title('Win Rate (%)')\n",
    "axes[0].set_xlabel('Window (days)')\n",
    "axes[0].set_ylabel('%')\n",
    "axes[0].legend()\n",
    "\n+    axes[1].plot(rolling['window'], rolling['total_pips'], marker='o')\n",
    "axes[1].axhline(baseline['total_pips'], color='gray', linestyle='--', label='baseline')\n",
    "axes[1].set_title('Total Pips')\n",
    "axes[1].set_xlabel('Window (days)')\n",
    "axes[1].set_ylabel('pips')\n",
    "axes[1].legend()\n",
    "plt.tight_layout()\n",
    "plt.show()"
   ]
  },
  {
   "cell_type": "markdown",
   "metadata": {},
   "source": [
    "## 警告一覧"
   ]
  },
  {
   "cell_type": "code",
   "execution_count": null,
   "metadata": {},
   "outputs": [],
   "source": [
    "for w in data.get('warnings', []):\n",
    "    print('- ', w) if data['warnings'] else print('警告なし')"
   ]
  }
 ],
 "metadata": {
  "kernelspec": {
   "display_name": "Python 3",
   "language": "python",
   "name": "python3"
  },
  "language_info": {
   "name": "python"
  }
 },
 "nbformat": 4,
 "nbformat_minor": 5
}
